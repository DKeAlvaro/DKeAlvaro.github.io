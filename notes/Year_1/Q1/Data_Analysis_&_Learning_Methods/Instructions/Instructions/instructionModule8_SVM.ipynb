{
 "cells": [
  {
   "cell_type": "markdown",
   "id": "8bd60184",
   "metadata": {},
   "source": [
    "# Lab instruction: Support vector machines\n",
    "\n",
    "### First exercise\n",
    "\n",
    "**Objective**  \n",
    "   To make a basic test of an SVM\n",
    "\n",
    "1. **Dataset**\n",
    "   For this lab session we are loading the digits dataset from sklearn. Split the data into test and training data. Make a function that displays the first 25 digits in a grid of 5x5.\n",
    "\n",
    "2. **Learning algorithms**\n",
    "   implement a KNN, a logistic regression and the tree-based classifers.\n",
    "   Train on the traning set and evaluate the classifier on the test. Use the function  ConfusionMatrixDisplay from sklearn.metrics to generate the confusion mettrics on the test set to evaluate the classifiers. Which classifier is best? "
   ]
  },
  {
   "cell_type": "code",
   "execution_count": null,
   "id": "da38a422",
   "metadata": {},
   "outputs": [],
   "source": [
    "# Loading and splitting the data\n",
    "\n",
    "import numpy as np\n",
    "from sklearn.datasets import load_digits\n",
    "from sklearn.model_selection import train_test_split\n",
    "\n",
    "\n",
    "data, labels = load_digits(return_X_y=True)\n",
    "(n_samples, n_features), n_digits = data.shape, np.unique(labels).size\n",
    "X, y = data, labels\n",
    "\n",
    "# Split into train/test\n",
    "X_train, X_test, y_train, y_test = train_test_split(X, y, test_size=0.2, random_state=42)"
   ]
  },
  {
   "cell_type": "code",
   "execution_count": null,
   "id": "52a245ec",
   "metadata": {},
   "outputs": [],
   "source": [
    "# Plot the first 25 digits\n",
    "import matplotlib.pyplot as plt\n",
    "\n",
    "fig, axs = plt.subplots(5, 5)\n",
    "for i in range(5):\n",
    "    for j in range(5):\n",
    "        axs[i,j].imshow(X_train[i+j*5,:].reshape(8,8) )\n",
    "plt.show()"
   ]
  },
  {
   "cell_type": "code",
   "execution_count": null,
   "id": "7c166b3f",
   "metadata": {},
   "outputs": [],
   "source": [
    "from sklearn.metrics import ConfusionMatrixDisplay\n",
    "\n",
    "from sklearn import svm\n",
    "\n",
    "\n"
   ]
  },
  {
   "cell_type": "markdown",
   "id": "20b5741d",
   "metadata": {},
   "source": [
    "### Second exercise\n",
    "The objective of the second exercise is to test the effects of the kernels in the decision boundary \n",
    "\n",
    "1. **Generating the data**\n",
    "   For this exercise we test the effect of kernels in the decision boundary. For this we generate data from the \"moons\" dataset which requires a non-linear classifier. \n",
    "\n",
    "2. **Learning algorithms**\n",
    "   Split the data also in test and training sets. 20% of the points are used for testing. Train a KNN classifier, a logistic regression model and a Tree classifier.\n",
    "\n",
    "3. **Visualize the decision boundaries**\n",
    "   What happens with the decision boundary of the SVM with diferent kernels\n",
    "   * Radial basis function kernel with parameter gamma with values 0.1, 0.25 and 1.0. What does change in the decision boundary.\n",
    "      * What happens when the value of gamma is small? How does it look when compared with the linear basis function?\n",
    "      * What happens with larger values of gamma?\n",
    "   * A linear basis function\n",
    "   * Polynomial kernels with different orders (1st order, 2nd order, 3rd order) with a coef0=1\n",
    "      * What happens with higher order polynomials? How does this compare with the linear basis function?"
   ]
  },
  {
   "cell_type": "code",
   "execution_count": null,
   "id": "ba8e3242",
   "metadata": {},
   "outputs": [],
   "source": [
    "from sklearn.datasets import make_moons\n",
    "from sklearn.inspection import DecisionBoundaryDisplay\n",
    "\n",
    "def showDecisionBoundary(X_train, y_train, classif):\n",
    "    feature_1, feature_2 = np.meshgrid(\n",
    "        np.linspace(X_train[:,0].min(), X_train[:,0].max()),\n",
    "        np.linspace(X_train[:,1].min(), X_train[:,1].max()))\n",
    "\n",
    "    grid = np.vstack([feature_1.ravel(), feature_2.ravel()]).T\n",
    "\n",
    "    y_pred = classif.predict( grid )\n",
    "    y_pred = np.reshape(y_pred, feature_1.shape)\n",
    "\n",
    "    display = DecisionBoundaryDisplay(\n",
    "        xx0=feature_1, xx1=feature_2, response=y_pred)\n",
    "\n",
    "    display.plot()\n",
    "    display.ax_.scatter(\n",
    "        X_train[:, 0], X_train[:, 1], c=y_train, edgecolor=\"black\")\n",
    "\n",
    "\n",
    "X, y = make_moons(n_samples=200, noise=0.2, random_state=42)\n",
    "\n",
    "X_train, X_test, y_train, y_test = train_test_split(X, y, test_size=0.5, random_state=42)\n",
    "\n",
    "plt.scatter(X_train[:, 0], X_train[:, 1], c=y_train)\n",
    "plt.title( \"synthetic data\" )\n",
    "plt.tight_layout()\n",
    "plt.show()\n"
   ]
  },
  {
   "cell_type": "code",
   "execution_count": null,
   "id": "8e5bc979",
   "metadata": {},
   "outputs": [],
   "source": [
    "# Testing the effect of the radial basis function kernel with different values of gamma"
   ]
  },
  {
   "cell_type": "code",
   "execution_count": null,
   "id": "4823af99",
   "metadata": {},
   "outputs": [],
   "source": [
    "# Using the linear kernel as reference\n"
   ]
  },
  {
   "cell_type": "code",
   "execution_count": null,
   "id": "b8dbb7f5",
   "metadata": {},
   "outputs": [],
   "source": [
    "# Add here the decision boundaries of the polynomial kernels"
   ]
  },
  {
   "cell_type": "code",
   "execution_count": null,
   "id": "c0807c92",
   "metadata": {},
   "outputs": [],
   "source": []
  },
  {
   "cell_type": "code",
   "execution_count": null,
   "id": "6f1b7a3a",
   "metadata": {},
   "outputs": [],
   "source": []
  },
  {
   "cell_type": "code",
   "execution_count": null,
   "id": "34e42b35",
   "metadata": {},
   "outputs": [],
   "source": []
  }
 ],
 "metadata": {
  "kernelspec": {
   "display_name": "Python 3",
   "language": "python",
   "name": "python3"
  },
  "language_info": {
   "codemirror_mode": {
    "name": "ipython",
    "version": 3
   },
   "file_extension": ".py",
   "mimetype": "text/x-python",
   "name": "python",
   "nbconvert_exporter": "python",
   "pygments_lexer": "ipython3",
   "version": "3.12.3"
  }
 },
 "nbformat": 4,
 "nbformat_minor": 5
}
