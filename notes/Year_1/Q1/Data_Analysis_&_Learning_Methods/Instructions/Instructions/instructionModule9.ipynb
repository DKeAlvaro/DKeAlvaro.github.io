{
 "cells": [
  {
   "cell_type": "markdown",
   "id": "8bd60184",
   "metadata": {},
   "source": [
    "# Lab instruction: Perceprons and neural networks\n",
    "\n",
    "### First exercise\n",
    "To make a basic test of an a perceptron in a dataset that can be classified with a linear classifier. \n",
    "* Discuss with your classmates what is the main difference between a percepron and a logistic classfier."
   ]
  },
  {
   "cell_type": "code",
   "execution_count": null,
   "id": "3359c105",
   "metadata": {},
   "outputs": [],
   "source": [
    "from sklearn.inspection import DecisionBoundaryDisplay\n",
    "\n",
    "def showDecisionBoundary(X_train, y_train, classif):\n",
    "    feature_1, feature_2 = np.meshgrid(\n",
    "        np.linspace(X_train[:,0].min(), X_train[:,0].max()),\n",
    "        np.linspace(X_train[:,1].min(), X_train[:,1].max()))\n",
    "\n",
    "    grid = np.vstack([feature_1.ravel(), feature_2.ravel()]).T\n",
    "\n",
    "    y_pred = classif.predict( grid )\n",
    "    y_pred = np.reshape(y_pred, feature_1.shape)\n",
    "\n",
    "    display = DecisionBoundaryDisplay(\n",
    "        xx0=feature_1, xx1=feature_2, response=y_pred)\n",
    "\n",
    "    display.plot()\n",
    "    display.ax_.scatter(\n",
    "        X_train[:, 0], X_train[:, 1], c=y_train, edgecolor=\"black\")"
   ]
  },
  {
   "cell_type": "code",
   "execution_count": null,
   "id": "70e2b8f4",
   "metadata": {},
   "outputs": [],
   "source": [
    "# Loading and splitting the data\n",
    "\n",
    "import numpy as np\n",
    "from sklearn.datasets import load_digits\n",
    "from sklearn.model_selection import train_test_split\n",
    "\n",
    "# Code from https://scikit-learn.org/stable/auto_examples/gaussian_process/plot_gpc_xor.html\n",
    "xx, yy = np.meshgrid(np.linspace(-3, 3, 50), np.linspace(-3, 3, 50))\n",
    "rng = np.random.RandomState(1)\n",
    "X = rng.randn(200, 2)\n",
    "y = X[:, 0] > 0 \n",
    "\n",
    "c1 = X[y==1,:]\n",
    "c2 = X[y<1,:]\n",
    "\n",
    "#showing the data\n",
    "import matplotlib.pyplot as plt\n",
    "plt.scatter(c1[:,0], c1[:,1], c=\"b\", marker=\"o\")\n",
    "plt.scatter(c2[:,0], c2[:,1], c=\"r\", marker=\"+\")\n",
    "plt.show()"
   ]
  },
  {
   "cell_type": "code",
   "execution_count": null,
   "id": "598528eb",
   "metadata": {},
   "outputs": [],
   "source": [
    "# Add your code to train and visualize the provided dataset here."
   ]
  },
  {
   "cell_type": "markdown",
   "id": "b3347b1d",
   "metadata": {},
   "source": [
    "### Second exercise\n",
    "The dataset below solves the classic XOR problem, which requires a non-linear classifier. To perform this, we first train a perceptron which shows that this problem cannot be solved by a linear classifier. Afterwards use a neural network with one hidden with the following parameters\n",
    "* 1 hidden layer with 4 neurons.\n",
    "* ReLU activations\n",
    "* Optimized with the lbfgs solver\n",
    "* train for 1000 ierations\n",
    "\n",
    "Plot the decision boundary of this MLP and compare it with a single-layer perceptron. Discuss why multiple layers are needed."
   ]
  },
  {
   "cell_type": "code",
   "execution_count": null,
   "id": "da38a422",
   "metadata": {},
   "outputs": [],
   "source": [
    "# Loading and splitting the data\n",
    "\n",
    "import numpy as np\n",
    "from sklearn.datasets import load_digits\n",
    "from sklearn.model_selection import train_test_split\n",
    "\n",
    "# Code from https://scikit-learn.org/stable/auto_examples/gaussian_process/plot_gpc_xor.html\n",
    "xx, yy = np.meshgrid(np.linspace(-3, 3, 50), np.linspace(-3, 3, 50))\n",
    "rng = np.random.RandomState(1)\n",
    "X = rng.randn(200, 2)\n",
    "y = np.logical_xor(X[:, 0] > 0, X[:, 1] > 0)\n",
    "\n",
    "c1 = X[y==1,:]\n",
    "c2 = X[y<1,:]\n",
    "\n",
    "#showing the data\n",
    "import matplotlib.pyplot as plt\n",
    "plt.scatter(c1[:,0], c1[:,1], c=\"b\", marker=\"o\")\n",
    "plt.scatter(c2[:,0], c2[:,1], c=\"r\", marker=\"+\")\n",
    "plt.show()\n"
   ]
  },
  {
   "cell_type": "code",
   "execution_count": null,
   "id": "45780d1f",
   "metadata": {},
   "outputs": [],
   "source": [
    "# Add your code for showing the fitting of the perceptron and the decision boundary here"
   ]
  },
  {
   "cell_type": "code",
   "execution_count": null,
   "id": "e486f17d",
   "metadata": {},
   "outputs": [],
   "source": [
    "# Add your code for showing the fitting of the MLP and the decision boundary here"
   ]
  },
  {
   "cell_type": "code",
   "execution_count": null,
   "id": "4f8ffd87",
   "metadata": {},
   "outputs": [],
   "source": []
  },
  {
   "cell_type": "code",
   "execution_count": null,
   "id": "27c65428",
   "metadata": {},
   "outputs": [],
   "source": []
  }
 ],
 "metadata": {
  "kernelspec": {
   "display_name": "Python 3",
   "language": "python",
   "name": "python3"
  },
  "language_info": {
   "codemirror_mode": {
    "name": "ipython",
    "version": 3
   },
   "file_extension": ".py",
   "mimetype": "text/x-python",
   "name": "python",
   "nbconvert_exporter": "python",
   "pygments_lexer": "ipython3",
   "version": "3.12.3"
  }
 },
 "nbformat": 4,
 "nbformat_minor": 5
}
